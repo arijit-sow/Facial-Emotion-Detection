{
 "cells": [
  {
   "cell_type": "code",
   "execution_count": 1,
   "metadata": {},
   "outputs": [],
   "source": [
    "#importing nessary python libraries\n",
    "import pandas as pd\n",
    "import numpy as np\n",
    "from sklearn.model_selection import train_test_split\n",
    "from tensorflow import keras"
   ]
  },
  {
   "cell_type": "code",
   "execution_count": 2,
   "metadata": {},
   "outputs": [],
   "source": [
    "# Loading Features & Labels\n",
    "f_df = pd.read_csv(\"dataset_x.csv\")\n",
    "l_df = pd.read_csv(\"dataset_y.csv\")\n"
   ]
  },
  {
   "cell_type": "code",
   "execution_count": 3,
   "metadata": {},
   "outputs": [],
   "source": [
    "# Converting Features & Labels into Numpy Array\n",
    "x = np.array(f_df)\n",
    "y = np.array(l_df).flatten()\n"
   ]
  },
  {
   "cell_type": "code",
   "execution_count": 4,
   "metadata": {},
   "outputs": [],
   "source": [
    "# Spliting Training & Testing data\n",
    "x_train, x_test, y_train, y_test = train_test_split(x,y, test_size=0.15)"
   ]
  },
  {
   "cell_type": "code",
   "execution_count": 5,
   "metadata": {},
   "outputs": [],
   "source": [
    "# Normalized Data\n",
    "x_train = x_train / 255         \n",
    "x_test = x_test / 255           "
   ]
  },
  {
   "cell_type": "code",
   "execution_count": 6,
   "metadata": {},
   "outputs": [],
   "source": [
    "# Creating Brain\n",
    "model = keras.Sequential([\n",
    "    keras.layers.Dense(100, input_shape=(2304,), activation='relu'),\n",
    "    keras.layers.Dense(50, activation='relu'),\n",
    "    keras.layers.Dense(24, activation='softmax')\n",
    "])\n"
   ]
  },
  {
   "cell_type": "code",
   "execution_count": 7,
   "metadata": {},
   "outputs": [],
   "source": [
    "# Compiling Model\n",
    "model.compile(\n",
    "    optimizer = 'adam',\n",
    "    loss = 'sparse_categorical_crossentropy',\n",
    "    metrics = 'accuracy'\n",
    ")"
   ]
  },
  {
   "cell_type": "code",
   "execution_count": 8,
   "metadata": {},
   "outputs": [
    {
     "name": "stdout",
     "output_type": "stream",
     "text": [
      "Epoch 1/5\n",
      "871/871 [==============================] - 3s 3ms/step - loss: 1.8629 - accuracy: 0.2366\n",
      "Epoch 2/5\n",
      "871/871 [==============================] - 3s 3ms/step - loss: 1.7678 - accuracy: 0.2899\n",
      "Epoch 3/5\n",
      "871/871 [==============================] - 3s 3ms/step - loss: 1.7373 - accuracy: 0.3072\n",
      "Epoch 4/5\n",
      "871/871 [==============================] - 3s 3ms/step - loss: 1.7134 - accuracy: 0.3187\n",
      "Epoch 5/5\n",
      "871/871 [==============================] - 3s 3ms/step - loss: 1.6979 - accuracy: 0.3248\n",
      "Done...\n"
     ]
    }
   ],
   "source": [
    "\n",
    "# Saving Model\n",
    "history = model.fit(x_train, y_train, epochs=5)\n",
    "model.save('model/model-1.h5', history)\n",
    "\n",
    "\n",
    "print(\"Done...\")\n"
   ]
  },
  {
   "cell_type": "code",
   "execution_count": null,
   "metadata": {},
   "outputs": [],
   "source": []
  }
 ],
 "metadata": {
  "kernelspec": {
   "display_name": "Python 3",
   "language": "python",
   "name": "python3"
  },
  "language_info": {
   "codemirror_mode": {
    "name": "ipython",
    "version": 3
   },
   "file_extension": ".py",
   "mimetype": "text/x-python",
   "name": "python",
   "nbconvert_exporter": "python",
   "pygments_lexer": "ipython3",
   "version": "3.10.8"
  },
  "orig_nbformat": 4
 },
 "nbformat": 4,
 "nbformat_minor": 2
}
